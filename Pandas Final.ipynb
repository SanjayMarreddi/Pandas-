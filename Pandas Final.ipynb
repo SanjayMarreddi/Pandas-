{
 "cells": [
  {
   "cell_type": "markdown",
   "metadata": {},
   "source": [
    "## Pandas\n",
    "\n",
    "- The most popular Python library for data analysis.\n",
    "\n",
    "- There are two core objects in pandas: the DataFrame and the Series.\n",
    "\n",
    "### DataFrame\n",
    "\n",
    "*A DataFrame is a table. It contains an array of individual entries, each of which has a certain value. Each entry corresponds to a row (or record) and a column.*"
   ]
  },
  {
   "cell_type": "markdown",
   "metadata": {},
   "source": [
    "We are using the **pd.DataFrame()** constructor to generate these DataFrame objects.\n",
    "\n",
    "- The syntax for declaring a new one is a dictionary whose **keys** are the **column names** (Bob and Sue in the below example), and whose **values** are a **list** of entries. This is the standard way of constructing a new DataFrame, and the one you are most likely to encounter.\n",
    "\n",
    "- The **list** of row labels used in a DataFrame is known as an **Index**. We can assign values to it by using an index parameter in our constructor:"
   ]
  },
  {
   "cell_type": "code",
   "execution_count": 1,
   "metadata": {},
   "outputs": [],
   "source": [
    "import pandas as pd"
   ]
  },
  {
   "cell_type": "code",
   "execution_count": 2,
   "metadata": {},
   "outputs": [
    {
     "data": {
      "text/html": [
       "<div>\n",
       "<style scoped>\n",
       "    .dataframe tbody tr th:only-of-type {\n",
       "        vertical-align: middle;\n",
       "    }\n",
       "\n",
       "    .dataframe tbody tr th {\n",
       "        vertical-align: top;\n",
       "    }\n",
       "\n",
       "    .dataframe thead th {\n",
       "        text-align: right;\n",
       "    }\n",
       "</style>\n",
       "<table border=\"1\" class=\"dataframe\">\n",
       "  <thead>\n",
       "    <tr style=\"text-align: right;\">\n",
       "      <th></th>\n",
       "      <th>Bob</th>\n",
       "      <th>Sue</th>\n",
       "    </tr>\n",
       "  </thead>\n",
       "  <tbody>\n",
       "    <tr>\n",
       "      <th>Product A</th>\n",
       "      <td>I liked it.</td>\n",
       "      <td>Pretty good.</td>\n",
       "    </tr>\n",
       "    <tr>\n",
       "      <th>Product B</th>\n",
       "      <td>It was awful.</td>\n",
       "      <td>Bland.</td>\n",
       "    </tr>\n",
       "  </tbody>\n",
       "</table>\n",
       "</div>"
      ],
      "text/plain": [
       "                     Bob           Sue\n",
       "Product A    I liked it.  Pretty good.\n",
       "Product B  It was awful.        Bland."
      ]
     },
     "execution_count": 2,
     "metadata": {},
     "output_type": "execute_result"
    }
   ],
   "source": [
    "pd.DataFrame({'Bob': ['I liked it.', 'It was awful.'], \n",
    "              'Sue': ['Pretty good.', 'Bland.']},\n",
    "             index=['Product A', 'Product B'])\n"
   ]
  },
  {
   "cell_type": "markdown",
   "metadata": {},
   "source": [
    "## Series\n",
    "*A Series, by contrast, is a sequence of data values. If a DataFrame is a table, a Series is a list. And in fact you can create one with nothing more than a list*"
   ]
  },
  {
   "cell_type": "code",
   "execution_count": 3,
   "metadata": {},
   "outputs": [
    {
     "data": {
      "text/plain": [
       "0    1\n",
       "1    2\n",
       "2    3\n",
       "3    4\n",
       "4    5\n",
       "dtype: int64"
      ]
     },
     "execution_count": 3,
     "metadata": {},
     "output_type": "execute_result"
    }
   ],
   "source": [
    "pd.Series([1, 2, 3, 4, 5])"
   ]
  },
  {
   "cell_type": "markdown",
   "metadata": {},
   "source": [
    "- A Series is, in essence, a single column of a DataFrame. So you can assign column values to the Series the same way as before, using an **index** parameter. \n",
    "- However, a Series does not have a column name, it only has one overall **name**:"
   ]
  },
  {
   "cell_type": "code",
   "execution_count": 4,
   "metadata": {},
   "outputs": [
    {
     "data": {
      "text/plain": [
       "2015 Sales    30\n",
       "2016 Sales    35\n",
       "2017 Sales    40\n",
       "Name: Product A, dtype: int64"
      ]
     },
     "execution_count": 4,
     "metadata": {},
     "output_type": "execute_result"
    }
   ],
   "source": [
    "pd.Series([30, 35, 40], index=['2015 Sales', '2016 Sales', '2017 Sales'], name='Product A')"
   ]
  },
  {
   "cell_type": "markdown",
   "metadata": {},
   "source": [
    "> So a CSV file is a table of values separated by commas. Hence the name: \"Comma-Separated Values\", or CSV"
   ]
  },
  {
   "cell_type": "markdown",
   "metadata": {},
   "source": [
    "## Reading the Data Files"
   ]
  },
  {
   "cell_type": "markdown",
   "metadata": {},
   "source": [
    "- wine_reviews = pd.read_csv(\"inputfilepath.csv\", index_col=0) ---*(\"index_col\" is specified to make pandas use the already present column in the CSV file  for the index instead of creating a new one from scratch)*\n",
    "\n",
    "\n",
    "- wine_reviews.shape   ---*(We can use the shape attribute to check how large the resulting DataFrame is)*\n",
    "\n",
    "\n",
    "- wine_reviews.head()  ---*(head\" grabs the first five rows in the given DataFrame if not specified)*\n",
    "\n",
    "\n"
   ]
  },
  {
   "cell_type": "markdown",
   "metadata": {},
   "source": [
    "### Saving the resulting DataFrame to a CSV file "
   ]
  },
  {
   "cell_type": "markdown",
   "metadata": {},
   "source": [
    "*If we have a DataFrame named \"animals\" as result of our model we will save that into CSV file in this way. We can give arbitrary name in the bracket*\n",
    "\n",
    "- animals.to_csv(\"cows_and_goats.csv\")"
   ]
  },
  {
   "cell_type": "markdown",
   "metadata": {},
   "source": [
    "### NOTE\n",
    "\n",
    "- Referring **Kaggle Notebooks for MICROCOURSES revision** is BETTER along with the Insights obtained from Excercises which are mentioned below\n",
    "\n",
    "- For Intro to ML and Python Refer the MANUAL NOTES Diary."
   ]
  },
  {
   "cell_type": "markdown",
   "metadata": {},
   "source": [
    "## Insights found from the Kaggle MicroCourse Excercises of PANDAS"
   ]
  },
  {
   "cell_type": "code",
   "execution_count": 11,
   "metadata": {},
   "outputs": [],
   "source": [
    "my_df=pd.DataFrame()\n"
   ]
  },
  {
   "cell_type": "markdown",
   "metadata": {},
   "source": [
    "> If our DataFrame has a Column named \"description\" then:-\n",
    "- df_series = my_df[\"description\"]\n",
    "- df_df     = my_df[[\"description\"]]\n",
    "\n",
    "- df_df is a DATAFRAME\n",
    "- df_series is a SERIES \n"
   ]
  },
  {
   "cell_type": "markdown",
   "metadata": {},
   "source": [
    "- **Dont forget that for iloc and loc we use [] not ()**\n",
    "- ex:- \n",
    " -     my_df.loc[1,\"description\"]\n",
    " -     my_df.iloc[0,:3]\n",
    "-      df=reviews.loc[[0,1,10,100],[\"country\",\"province\",\"region_1\",\"region_2\"]]\n",
    "\n",
    "- **Use \"&\" ,\"|\" only.  \"and\" ,\"or\" Wont work in PANDAS DataFrames and Series**"
   ]
  },
  {
   "cell_type": "markdown",
   "metadata": {},
   "source": [
    "> my_df.price.**idxmax()** returns the Index(Row Number) where maximum value of price is present in the my_df DataFrame\n",
    "\n"
   ]
  },
  {
   "cell_type": "markdown",
   "metadata": {},
   "source": [
    "> a=[True,False]\n",
    "- sum(a) returns 1\n",
    "- Here in Lists,True is considered as 1 whereas False is considered as 0\n",
    "- Same in case of Series.\n",
    "\n",
    "> Dont forget using map and apply for Complex Operations. They help a lot!!"
   ]
  },
  {
   "cell_type": "markdown",
   "metadata": {},
   "source": [
    "**reviews.groupby('winery').apply(lambda df: df.title.iloc[0])**\n",
    "\n",
    "*Here First we are grouping the DataFrame \"reviews\" by \"winery\" Category and then We are selecting the First Row's Title from each Group*  "
   ]
  },
  {
   "cell_type": "markdown",
   "metadata": {},
   "source": [
    "- groupby is Really POWERFUL\n",
    "\n",
    "> _mean_r = reviews.groupby(\"taster_name\").points.mean()\n",
    "\n",
    "- In this \"_mean_r\"  We have indices as name of Reviewers and Values as Mean Score given out by that Reviewer\n",
    "\n"
   ]
  },
  {
   "cell_type": "markdown",
   "metadata": {},
   "source": [
    "- NOTE that after calling dtype no Parenthesis are Required"
   ]
  },
  {
   "cell_type": "markdown",
   "metadata": {},
   "source": [
    "### Sometimes the price column is null. How many reviews in the dataset are missing a price?\n",
    "- #missing_price_reviews = reviews[reviews.price.isnull()]\n",
    "- n_missing_prices = len(missing_price_reviews)\n",
    "\n",
    "\n",
    "- #Cute alternative solution: if we sum a boolean series, True is treated as 1 and False as 0\n",
    "- n_missing_prices = reviews.price.isnull().sum()\n",
    "\n",
    "\n",
    "- #or equivalently:\n",
    "- n_missing_prices = pd.isnull(reviews.price).sum()"
   ]
  },
  {
   "cell_type": "markdown",
   "metadata": {},
   "source": [
    "**Dont forget to specify the Overlapping Edges before using the join() function**"
   ]
  },
  {
   "cell_type": "code",
   "execution_count": null,
   "metadata": {},
   "outputs": [],
   "source": []
  }
 ],
 "metadata": {
  "kernelspec": {
   "display_name": "Python 3",
   "language": "python",
   "name": "python3"
  },
  "language_info": {
   "codemirror_mode": {
    "name": "ipython",
    "version": 3
   },
   "file_extension": ".py",
   "mimetype": "text/x-python",
   "name": "python",
   "nbconvert_exporter": "python",
   "pygments_lexer": "ipython3",
   "version": "3.7.6"
  }
 },
 "nbformat": 4,
 "nbformat_minor": 4
}
